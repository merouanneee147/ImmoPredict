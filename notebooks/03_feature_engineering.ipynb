{
 "cells": [
  {
   "cell_type": "markdown",
   "id": "1b68d3b8",
   "metadata": {},
   "source": [
    "Importation des bibliothèques et Chargement des données nettoyées"
   ]
  },
  {
   "cell_type": "code",
   "execution_count": 4,
   "id": "3bbea4c3",
   "metadata": {},
   "outputs": [
    {
     "name": "stderr",
     "output_type": "stream",
     "text": [
      "C:\\Users\\Marouane\\AppData\\Local\\Temp\\ipykernel_12428\\3818663381.py:9: DtypeWarning: Columns (10) have mixed types. Specify dtype option on import or set low_memory=False.\n",
      "  df = pd.read_csv(processed_path)\n"
     ]
    },
    {
     "name": "stdout",
     "output_type": "stream",
     "text": [
      "Dimensions initiales: (586349, 27)\n"
     ]
    }
   ],
   "source": [
    "import pandas as pd\n",
    "import numpy as np\n",
    "import matplotlib.pyplot as plt\n",
    "import seaborn as sns\n",
    "import os\n",
    "from sklearn.preprocessing import StandardScaler, OneHotEncoder\n",
    "project_root = r'C:\\Users\\Marouane\\ImmoPredict'\n",
    "processed_path = os.path.join(project_root, 'data', 'processed', 'dvf_clean.csv')\n",
    "df = pd.read_csv(processed_path)\n",
    "print(f\"Dimensions initiales: {df.shape}\")"
   ]
  },
  {
   "cell_type": "markdown",
   "id": "c9c63e95",
   "metadata": {},
   "source": [
    "Filtrage pour se concentrer sur les appartements"
   ]
  },
  {
   "cell_type": "code",
   "execution_count": 5,
   "id": "30b8349a",
   "metadata": {},
   "outputs": [],
   "source": [
    "if 'Type local' in df.columns:\n",
    "    df = df[df['Type local'] == 'Appartement'].copy()\n",
    "    print(f\"Dimensions après filtrage des appartements: {df.shape}\")"
   ]
  },
  {
   "cell_type": "markdown",
   "id": "bdfacdbf",
   "metadata": {},
   "source": [
    "2. Création de variables dérivées"
   ]
  },
  {
   "cell_type": "code",
   "execution_count": 6,
   "id": "3161bb87",
   "metadata": {},
   "outputs": [],
   "source": [
    "\n",
    "# Prix au m²\n",
    "if all(col in df.columns for col in ['Valeur fonciere', 'Surface reelle bati']):\n",
    "    # Éviter la division par zéro\n",
    "    mask = df['Surface reelle bati'] > 0\n",
    "    df.loc[mask, 'Prix_m2'] = df.loc[mask, 'Valeur fonciere'] / df.loc[mask, 'Surface reelle bati']\n",
    "    \n",
    "    # Filtrer les prix au m² aberrants\n",
    "    df = df[(df['Prix_m2'] > 100) & (df['Prix_m2'] < df['Prix_m2'].quantile(0.99))]\n",
    "\n",
    "# Surface par pièce\n",
    "if all(col in df.columns for col in ['Surface reelle bati', 'Nombre pieces principales']):\n",
    "    mask = df['Nombre pieces principales'] > 0\n",
    "    df.loc[mask, 'Surface_par_piece'] = df.loc[mask, 'Surface reelle bati'] / df.loc[mask, 'Nombre pieces principales']\n",
    "\n",
    "# Variables polynomiales\n",
    "if 'Surface reelle bati' in df.columns:\n",
    "    df['Surface_squared'] = df['Surface reelle bati'] ** 2\n",
    "\n"
   ]
  },
  {
   "cell_type": "markdown",
   "id": "59241ad4",
   "metadata": {},
   "source": [
    "3. Encodage des variables catégorielles"
   ]
  },
  {
   "cell_type": "code",
   "execution_count": 7,
   "id": "4d255aaa",
   "metadata": {},
   "outputs": [],
   "source": [
    "\n",
    "# One-hot encoding pour les variables catégorielles\n",
    "categorical_cols = ['Code departement']\n",
    "if 'Type local' in df.columns and len(df['Type local'].unique()) > 1:\n",
    "    categorical_cols.append('Type local')\n",
    "\n",
    "for col in categorical_cols:\n",
    "    if col in df.columns:\n",
    "        dummies = pd.get_dummies(df[col], prefix=col.replace(' ', '_'))\n",
    "        df = pd.concat([df, dummies], axis=1)\n",
    "\n"
   ]
  },
  {
   "cell_type": "markdown",
   "id": "b2663b52",
   "metadata": {},
   "source": [
    "4. Agrégation de variables géographiques"
   ]
  },
  {
   "cell_type": "code",
   "execution_count": 8,
   "id": "3bb9a1e2",
   "metadata": {},
   "outputs": [],
   "source": [
    "\n",
    "# Prix moyen par département\n",
    "if 'Code departement' in df.columns:\n",
    "    dept_price = df.groupby('Code departement')['Valeur fonciere'].mean().reset_index()\n",
    "    dept_price.columns = ['Code departement', 'Prix_moyen_dept']\n",
    "    df = df.merge(dept_price, on='Code departement', how='left')\n",
    "    \n",
    "    # Ratio prix/prix moyen du département\n",
    "    df['Ratio_prix_dept'] = df['Valeur fonciere'] / df['Prix_moyen_dept']\n",
    "\n"
   ]
  },
  {
   "cell_type": "markdown",
   "id": "ee67586b",
   "metadata": {},
   "source": [
    "5. Suppression des colonnes non nécessaires pour la modélisation"
   ]
  },
  {
   "cell_type": "code",
   "execution_count": 9,
   "id": "d6694110",
   "metadata": {},
   "outputs": [],
   "source": [
    "\n",
    "# Colonnes à supprimer (ajustez selon vos besoins)\n",
    "cols_to_drop = ['Type local', 'Code departement']  # Nous avons déjà créé des variables encodées\n",
    "cols_to_drop = [col for col in cols_to_drop if col in df.columns]\n",
    "df = df.drop(columns=cols_to_drop)\n"
   ]
  },
  {
   "cell_type": "markdown",
   "id": "01f4c74f",
   "metadata": {},
   "source": [
    "6. Gestion des valeurs manquantes restantes"
   ]
  },
  {
   "cell_type": "code",
   "execution_count": 10,
   "id": "a77847d4",
   "metadata": {},
   "outputs": [
    {
     "name": "stdout",
     "output_type": "stream",
     "text": [
      "\n",
      "Valeurs manquantes par colonne:\n"
     ]
    },
    {
     "data": {
      "text/html": [
       "<div>\n",
       "<style scoped>\n",
       "    .dataframe tbody tr th:only-of-type {\n",
       "        vertical-align: middle;\n",
       "    }\n",
       "\n",
       "    .dataframe tbody tr th {\n",
       "        vertical-align: top;\n",
       "    }\n",
       "\n",
       "    .dataframe thead th {\n",
       "        text-align: right;\n",
       "    }\n",
       "</style>\n",
       "<table border=\"1\" class=\"dataframe\">\n",
       "  <thead>\n",
       "    <tr style=\"text-align: right;\">\n",
       "      <th></th>\n",
       "      <th>Nombre</th>\n",
       "      <th>Pourcentage (%)</th>\n",
       "    </tr>\n",
       "  </thead>\n",
       "  <tbody>\n",
       "    <tr>\n",
       "      <th>2eme lot</th>\n",
       "      <td>580444</td>\n",
       "      <td>100.000000</td>\n",
       "    </tr>\n",
       "    <tr>\n",
       "      <th>Surface Carrez du 1er lot</th>\n",
       "      <td>579287</td>\n",
       "      <td>99.800670</td>\n",
       "    </tr>\n",
       "    <tr>\n",
       "      <th>1er lot</th>\n",
       "      <td>578692</td>\n",
       "      <td>99.698162</td>\n",
       "    </tr>\n",
       "    <tr>\n",
       "      <th>Type de voie</th>\n",
       "      <td>82205</td>\n",
       "      <td>14.162434</td>\n",
       "    </tr>\n",
       "    <tr>\n",
       "      <th>No voie</th>\n",
       "      <td>1727</td>\n",
       "      <td>0.297531</td>\n",
       "    </tr>\n",
       "    <tr>\n",
       "      <th>Surface_par_piece</th>\n",
       "      <td>956</td>\n",
       "      <td>0.164702</td>\n",
       "    </tr>\n",
       "    <tr>\n",
       "      <th>Code postal</th>\n",
       "      <td>45</td>\n",
       "      <td>0.007753</td>\n",
       "    </tr>\n",
       "    <tr>\n",
       "      <th>Section</th>\n",
       "      <td>23</td>\n",
       "      <td>0.003962</td>\n",
       "    </tr>\n",
       "    <tr>\n",
       "      <th>Voie</th>\n",
       "      <td>4</td>\n",
       "      <td>0.000689</td>\n",
       "    </tr>\n",
       "  </tbody>\n",
       "</table>\n",
       "</div>"
      ],
      "text/plain": [
       "                           Nombre  Pourcentage (%)\n",
       "2eme lot                   580444       100.000000\n",
       "Surface Carrez du 1er lot  579287        99.800670\n",
       "1er lot                    578692        99.698162\n",
       "Type de voie                82205        14.162434\n",
       "No voie                      1727         0.297531\n",
       "Surface_par_piece             956         0.164702\n",
       "Code postal                    45         0.007753\n",
       "Section                        23         0.003962\n",
       "Voie                            4         0.000689"
      ]
     },
     "metadata": {},
     "output_type": "display_data"
    },
    {
     "name": "stderr",
     "output_type": "stream",
     "text": [
      "c:\\Users\\Marouane\\ImmoPredict\\venv\\Lib\\site-packages\\numpy\\lib\\_nanfunctions_impl.py:1215: RuntimeWarning: Mean of empty slice\n",
      "  return np.nanmean(a, axis, out=out, keepdims=keepdims)\n"
     ]
    }
   ],
   "source": [
    "\n",
    "# Affichage des valeurs manquantes\n",
    "missing_values = df.isnull().sum()\n",
    "missing_percent = (missing_values / len(df)) * 100\n",
    "missing_df = pd.DataFrame({'Nombre': missing_values, 'Pourcentage (%)': missing_percent})\n",
    "print(\"\\nValeurs manquantes par colonne:\")\n",
    "display(missing_df[missing_df['Nombre'] > 0].sort_values('Pourcentage (%)', ascending=False))\n",
    "\n",
    "# Imputation des valeurs manquantes\n",
    "numeric_cols = df.select_dtypes(include=['float64', 'int64']).columns\n",
    "for col in numeric_cols:\n",
    "    if df[col].isnull().sum() > 0:\n",
    "        df[col] = df[col].fillna(df[col].median())"
   ]
  },
  {
   "cell_type": "markdown",
   "id": "6a4f2a29",
   "metadata": {},
   "source": [
    "7. Sauvegarde du dataset avec les features\n"
   ]
  },
  {
   "cell_type": "code",
   "execution_count": 11,
   "id": "eb4c8943",
   "metadata": {},
   "outputs": [
    {
     "name": "stdout",
     "output_type": "stream",
     "text": [
      "\n",
      "Dataset avec features sauvegardé dans: C:\\Users\\Marouane\\ImmoPredict\\data\\processed\\dvf_features.csv\n",
      "Dimensions finales: (580444, 130)\n"
     ]
    }
   ],
   "source": [
    "\n",
    "features_path = os.path.join(project_root, 'data', 'processed', 'dvf_features.csv')\n",
    "df.to_csv(features_path, index=False)\n",
    "print(f\"\\nDataset avec features sauvegardé dans: {features_path}\")\n",
    "print(f\"Dimensions finales: {df.shape}\")"
   ]
  }
 ],
 "metadata": {
  "kernelspec": {
   "display_name": "venv",
   "language": "python",
   "name": "python3"
  },
  "language_info": {
   "codemirror_mode": {
    "name": "ipython",
    "version": 3
   },
   "file_extension": ".py",
   "mimetype": "text/x-python",
   "name": "python",
   "nbconvert_exporter": "python",
   "pygments_lexer": "ipython3",
   "version": "3.13.2"
  }
 },
 "nbformat": 4,
 "nbformat_minor": 5
}
